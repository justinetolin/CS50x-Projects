{
 "cells": [
  {
   "cell_type": "code",
   "execution_count": 56,
   "id": "baa2d9c6",
   "metadata": {},
   "outputs": [],
   "source": [
    "import csv\n",
    "import sys"
   ]
  },
  {
   "cell_type": "code",
   "execution_count": 57,
   "id": "bbe2fdf6",
   "metadata": {},
   "outputs": [],
   "source": [
    "def longest_match(sequence, subsequence):\n",
    "    \"\"\"Returns length of longest run of subsequence in sequence.\"\"\"\n",
    "\n",
    "    # Initialize variables\n",
    "    longest_run = 0\n",
    "    subsequence_length = len(subsequence)\n",
    "    sequence_length = len(sequence)\n",
    "\n",
    "    # Check each character in sequence for most consecutive runs of subsequence\n",
    "    for i in range(sequence_length):\n",
    "\n",
    "        # Initialize count of consecutive runs\n",
    "        count = 0\n",
    "\n",
    "        # Check for a subsequence match in a \"substring\" (a subset of characters) within sequence\n",
    "        # If a match, move substring to next potential match in sequence\n",
    "        # Continue moving substring and checking for matches until out of consecutive matches\n",
    "        while True:\n",
    "\n",
    "            # Adjust substring start and end\n",
    "            start = i + count * subsequence_length\n",
    "            end = start + subsequence_length\n",
    "\n",
    "            # If there is a match in the substring\n",
    "            if sequence[start:end] == subsequence:\n",
    "                count += 1\n",
    "\n",
    "            # If there is no match in the substring\n",
    "            else:\n",
    "                break\n",
    "\n",
    "        # Update most consecutive matches found\n",
    "        longest_run = max(longest_run, count)\n",
    "\n",
    "    # After checking for runs at each character in seqeuence, return longest run found\n",
    "    return longest_run"
   ]
  },
  {
   "cell_type": "code",
   "execution_count": 65,
   "id": "212d72cd",
   "metadata": {},
   "outputs": [
    {
     "name": "stdout",
     "output_type": "stream",
     "text": [
      "['name', 'AGATC', 'TTTTTTCT', 'AATG', 'TCTAG', 'GATA', 'TATC', 'GAAA', 'TCTG']\n"
     ]
    }
   ],
   "source": [
    "# TODO: Check for command-line usage\n",
    "# if len(sys.argv) != 3:\n",
    "#     print( \"Missing command-tine argument\")\n",
    "#     sys.exit(1)\n",
    "db_path = 'databases/large.csv'\n",
    "sq_path = 'sequences/20.txt'\n",
    "\n",
    "sequence = ''\n",
    "with open(sq_path) as file:\n",
    "    sequence = file.read()\n",
    "\n",
    "database = []\n",
    "with open(db_path) as file:\n",
    "    reader = csv.DictReader(file)\n",
    "    print(reader.fieldnames)\n",
    "\n",
    "    for row in reader:\n",
    "        database.append(row)"
   ]
  },
  {
   "cell_type": "code",
   "execution_count": 66,
   "id": "1d532cc5",
   "metadata": {},
   "outputs": [
    {
     "name": "stdout",
     "output_type": "stream",
     "text": [
      "['AGATC', 'TTTTTTCT', 'AATG', 'TCTAG', 'GATA', 'TATC', 'GAAA', 'TCTG']\n"
     ]
    }
   ],
   "source": [
    "keys = list(database[0].keys())\n",
    "keys.pop(0)\n",
    "print(keys)"
   ]
  },
  {
   "cell_type": "code",
   "execution_count": 67,
   "id": "6d06650b",
   "metadata": {},
   "outputs": [
    {
     "name": "stdout",
     "output_type": "stream",
     "text": [
      "['Albus', 'Cedric', 'Draco', 'Fred', 'Ginny', 'Hagrid', 'Harry', 'Hermione', 'James', 'Kingsley', 'Lavender', 'Lily', 'Lucius', 'Luna', 'Minerva', 'Neville', 'Petunia', 'Remus', 'Ron', 'Severus', 'Sirius', 'Vernon', 'Zacharias']\n"
     ]
    }
   ],
   "source": [
    "names = []\n",
    "for row in database:\n",
    "    names.append(row[\"name\"])\n",
    "\n",
    "print(names)"
   ]
  },
  {
   "cell_type": "code",
   "execution_count": 68,
   "id": "4bfeb9e0",
   "metadata": {},
   "outputs": [
    {
     "data": {
      "text/plain": [
       "36"
      ]
     },
     "execution_count": 68,
     "metadata": {},
     "output_type": "execute_result"
    }
   ],
   "source": [
    "longest_match(sequence, keys[2])"
   ]
  },
  {
   "cell_type": "code",
   "execution_count": null,
   "id": "51b10925",
   "metadata": {},
   "outputs": [],
   "source": [
    "# Store the matches\n",
    "str_counts = []\n",
    "for i in range(len(keys)):\n",
    "    value = longest_match(sequence, keys[i])\n",
    "    str_counts.append(value)\n",
    "\n",
    "# Identify the matches\n",
    "matched = \"\"\n",
    "for row in database:\n",
    "    row_ls = list(row.values())\n",
    "    name = row_ls.pop(0)\n",
    "\n",
    "    for i in range(len(row_ls)):\n",
    "        row_ls[i] = int(row_ls[i])\n",
    "\n",
    "    if row_ls == str_counts:\n",
    "        matched = name\n",
    "\n",
    "if len(matched):\n",
    "    print(matched)\n",
    "else:\n",
    "    print(\"No match\")"
   ]
  }
 ],
 "metadata": {
  "kernelspec": {
   "display_name": "Python 3",
   "language": "python",
   "name": "python3"
  },
  "language_info": {
   "codemirror_mode": {
    "name": "ipython",
    "version": 3
   },
   "file_extension": ".py",
   "mimetype": "text/x-python",
   "name": "python",
   "nbconvert_exporter": "python",
   "pygments_lexer": "ipython3",
   "version": "3.12.10"
  }
 },
 "nbformat": 4,
 "nbformat_minor": 5
}
